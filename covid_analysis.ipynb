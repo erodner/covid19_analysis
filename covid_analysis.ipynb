{
 "cells": [
  {
   "cell_type": "markdown",
   "metadata": {},
   "source": [
    "# Covid19 Analyse\n",
    "\n",
    "In der folgenden Aufgabe wollen wir Daten des Robert-Koch Instituts zu Covid19-Infektionen analysieren. Als Datengrundlage verwenden wir die Anzahl von ermittelten und gemeldeten Positivfällen der letzten 7 Tage ([Excel](https://www.rki.de/DE/Content/InfAZ/N/Neuartiges_Coronavirus/Daten/Testzahlen-gesamt.xlsx?__blob=publicationFile)). Wir bezeichnen dies im Folgenden als 7-Tages-Infektionen.\n",
    "\n",
    "Diese Daten können sich sehr einfach mit python einlesen lassen, für die Aufgabe sollen Sie aber auf entsprechende Teile eines bestehenden Quellcodes zurückgreifen.\n",
    "\n",
    "1.\tErstellen Sie ein Programm, welches für jeden Tag ausgibt, ob es einen Rückgang oder einen Anstieg der 7-Tages-Infektionen insgesamt in Deutschland gab.\n",
    "2.\tErstellen Sie ein Programm, welches ermittelt, wie groß der Anteil von Berlin an den 7-Tages-Infektionen (insgesamt in Deutschland) ist. Diese prozentualen Anteile sollen in einer Liste abgelegt werden.\n",
    "3.\tStellen Sie die 7-Tages-Infektionen mittels matplotlib grafisch dar – mehr dazu erhalten Sie durch eine eigene Recherche im Internet."
   ]
  },
  {
   "cell_type": "markdown",
   "metadata": {},
   "source": [
    "Zunächst müssen wir ein paar Pakete installieren - eventuell müssen Sie nach dem ersten Aufruf den Kernel neustarten (Kernel->Restart)"
   ]
  },
  {
   "cell_type": "code",
   "execution_count": null,
   "metadata": {},
   "outputs": [],
   "source": [
    "%pip install --user pandas==1.1.3 xlrd==1.2.0 matplotlib"
   ]
  },
  {
   "cell_type": "markdown",
   "metadata": {},
   "source": [
    "Hier ein Beispiel wie Sie auf die Daten zugreifen können."
   ]
  },
  {
   "cell_type": "code",
   "execution_count": null,
   "metadata": {},
   "outputs": [],
   "source": [
    "import rki\n",
    "\n",
    "dates, cases = rki.get_cases_last7days(\"Gesamt\")\n",
    "print (cases)\n",
    "\n",
    "\n",
    "dates, cases = rki.get_cases_last7days(\"Berlin\")\n",
    "print (cases)"
   ]
  },
  {
   "cell_type": "code",
   "execution_count": null,
   "metadata": {},
   "outputs": [],
   "source": []
  }
 ],
 "metadata": {
  "kernelspec": {
   "display_name": "Python 3",
   "language": "python",
   "name": "python3"
  },
  "language_info": {
   "codemirror_mode": {
    "name": "ipython",
    "version": 3
   },
   "file_extension": ".py",
   "mimetype": "text/x-python",
   "name": "python",
   "nbconvert_exporter": "python",
   "pygments_lexer": "ipython3",
   "version": "3.8.5"
  }
 },
 "nbformat": 4,
 "nbformat_minor": 4
}
